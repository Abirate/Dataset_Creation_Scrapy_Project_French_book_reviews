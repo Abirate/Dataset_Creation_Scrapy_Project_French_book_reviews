{
  "metadata": {
    "kernelspec": {
      "language": "python",
      "display_name": "Python 3",
      "name": "python3"
    },
    "language_info": {
      "name": "python",
      "version": "3.7.12",
      "mimetype": "text/x-python",
      "codemirror_mode": {
        "name": "ipython",
        "version": 3
      },
      "pygments_lexer": "ipython3",
      "nbconvert_exporter": "python",
      "file_extension": ".py"
    },
    "colab": {
      "name": "scrapyproject-a-to-z-dataset-book-reviews.ipynb",
      "provenance": [],
      "collapsed_sections": []
    }
  },
  "nbformat_minor": 0,
  "nbformat": 4,
  "cells": [
    {
      "cell_type": "markdown",
      "source": [
        "# **I- Collecting Data with Scrapy | Basic Spider & Web Crawler**"
      ],
      "metadata": {
        "id": "YdODZ6vYBr-q"
      }
    },
    {
      "cell_type": "markdown",
      "source": [
        "#### In this **first section**, I will explain (with words and code) the **two spiders** (one **basic spider** and one **web crawler**) that I developed to collect data on book reviews available on French websites. For this purpose, my spiders iterated several pages and subpages to create a complete dataset."
      ],
      "metadata": {
        "id": "EuHIPJFgBr-v"
      }
    },
    {
      "cell_type": "markdown",
      "source": [
        "### **I-1 What is Scrapy and how can you create your first project?**\n",
        "\n",
        "**Scrapy** is an **open framework** for extracting the data we need from websites.\n",
        "Scrapy was created to build web spiders that can crawl the web on their own and save data. It is not a library but a whole framework that is enough by itself to build a robust web scraping project, while other web scraping tools are simple libraries that will often need to import additional libraries to achieve the scope of the Scrapy features.\n",
        "\n",
        "**To Build your first dataset** with **Scrapy framework**, you need to:\n",
        "- **Install Scrapy**: you have to write the following command in the terminal: **pip install scrapy** (or in the Anaconda's command prompt: **conda install scrapy**)\n",
        "- **Start a Project** (still in the Terminal), you write: **scrapy startproject name_project**\n",
        "- **Create a basic spider**: (still on the Terminal), you write: **scrapy genspider name_spider address_site_to_scrape**\n",
        "- **Create a crawler**: (still in the terminal), you write: **scrapy genspider -t crawl name_crawler address_site_to_scrape**"
      ],
      "metadata": {
        "id": "1_JzwzjcBr-z"
      }
    },
    {
      "cell_type": "markdown",
      "source": [
        "**Then, when opening the Scrapy project you've just created, you will see files added.** Scrapy has created every file needed for you. \n",
        "In fact, this **structure** mentioned above is illustrated by the **following diagram**, which you can find in the [scrapy documentation](https://docs.scrapy.org/en/latest/topics/architecture.html)  \n",
        " \n",
        "This link [scrapy Project components](https://docs.scrapy.org/en/latest/topics/architecture.html) provides a brief **Description** of the various components (of a Scrapy Project).\n",
        "\n"
      ],
      "metadata": {
        "id": "NWmassgKBr-4"
      }
    },
    {
      "cell_type": "markdown",
      "source": [
        "### **I-2 Building a Basic Spider to Scrape the 1st book reviews site**  \n",
        "\n",
        "\n",
        "- The original source of data of the **first dataset** is the [Babelio](https://www.babelio.com/) site.\n",
        "\n",
        "- **About Babelio**: is both a website and a mobile application dedicated to **French literature** and a **social network** intended to register personal libraries, which can then be shared and commented on by other users. The site operates on the principle of a social cataloging web application.\n",
        "\n",
        "You find **all the Scrapy project files** attached to the notebook (in the data section). The **path of the folder** is: [Scrape_babelio](https://github.com/Abirate/Dataset_Creation_Scrapy_Project_French_book_reviews/tree/master/Scrape_Babelio_Site)\n",
        "Below I add the **commented code** of the **first spider: a basic spider** (that you can also find on this path : [spider_babelio](https://github.com/Abirate/Dataset_Creation_Scrapy_Project_French_book_reviews/blob/master/Scrape_Babelio_Site/Babelio_reviews/spiders/abirspider.py)\n",
        "```python\n",
        "import scrapy\n",
        "\n",
        "class AbirspiderSpider(scrapy.Spider):\n",
        "    name = 'abirspider'\n",
        "    start_urls = ['https://www.babelio.com/dernierescritiques.php?p=2']\n",
        "   \n",
        "\n",
        "    def parse(self, response):\n",
        "        \n",
        "        # I retrieved all the xpahs of the fields to extract\n",
        "        \n",
        "        block_reviews = response.xpath('//div[@class=\"post_con\"]')\n",
        "        for block in block_reviews:\n",
        "            \n",
        "            book_title = block.xpath('.//a[@class =\"titre1\"]/text()').get()\n",
        "            author = block.xpath('.//a[@class=\"libelle\"]/text()').get()\n",
        "            review = block.xpath('normalize-space(.//div[@class=\"text row\"]/div/text())').get()\n",
        "            rating = block.xpath('.//td/div[@data-rateit-mode= \"font\"]/@data-rateit-value').get()\n",
        "\n",
        "            yield{\n",
        "                'book_title':book_title,\n",
        "                'author': author,\n",
        "                'review': review,\n",
        "                'rating' : rating\n",
        "            }\n",
        "        # Check if the next button exists (to re-chain the parse function) for all the next pages.\n",
        "        next_button = response.xpath('//a[@class=\"fleche icon-next\"]/@href').get()\n",
        "        if next_button:\n",
        "            new_url = response.urljoin(next_button)\n",
        "            yield scrapy.Request(url=new_url, callback=self.parse, dont_filter=True)\n",
        "```\n"
      ],
      "metadata": {
        "id": "u74uP30FBr-5"
      }
    },
    {
      "cell_type": "markdown",
      "source": [
        "### **I-3 Building a Crawler to Scrape the 2nd book reviews site**  \n",
        "\n",
        "- The original source of data of the **second dataset** is the [Critiques Libres](http://www.critiqueslibres.com/) site.\n",
        "\n",
        "- **About Critiques Libres**: Like Wikipedia, this French web site is made possible by the contributions of volunteers who use the Internet to share their knowledge and reading experiences. \n",
        "\n",
        "You find **all the Scrapy project files** attached to the notebook (in the data section). The **path of the folder** is: [Scrape_citiques_libres](https://github.com/Abirate/Dataset_Creation_Scrapy_Project_French_book_reviews/tree/master/Scrape_Site_Critiques_libres)\n",
        "Below I add the code of the **second spider : a crawler** (that you can also find on this path : [crawler](https://github.com/Abirate/Dataset_Creation_Scrapy_Project_French_book_reviews/blob/master/Scrape_Site_Critiques_libres/critiques_libres_scraping/spiders/crawlerbooks.py)\n",
        "```python\n",
        "import scrapy\n",
        "from scrapy.linkextractors import LinkExtractor\n",
        "from scrapy.spiders import CrawlSpider, Rule\n",
        "from ..items import AbirItem\n",
        "\n",
        "\n",
        "class CrawlerbooksSpider(CrawlSpider):\n",
        "\n",
        "    name = 'crawlerbooks'\n",
        "\n",
        "    start_urls = ['http://www.critiqueslibres.com/i.php/list/newcrit']\\\n",
        "    +[f'http://www.critiqueslibres.com/i.php/list/newcrit/?p={i}' for i in range(2,8)]\\\n",
        "    +['http://www.critiqueslibres.com/i.php/list/newecl/']\\\n",
        "    +[f'http://www.critiqueslibres.com/i.php/list/newecl?p={i}' for i in range(2,8)]\\\n",
        "    +['http://www.critiqueslibres.com/i.php/list/topstar/']\\\n",
        "    +[f'http://www.critiqueslibres.com/i.php/list/topstar/?p={i}' for i in range(2,8)]\\\n",
        "    +['http://www.critiqueslibres.com/i.php/list/newparu/']\\\n",
        "    +[f'http://www.critiqueslibres.com/i.php/list/newparu/?p={i}' for i in range(2,8)]\n",
        "    \n",
        "    # We add the rules for the crawler, specifying the xpaths of links to follow.\n",
        "    # Here I used the param restrict_paths =..., but there are other prams: allow = ..., deny = ..\n",
        "    # and restrict_css = ... (If you are more comfortable with CSS selectors)\n",
        "\n",
        "    rules = (\n",
        "        Rule(LinkExtractor(restrict_xpaths= '//div[@class =\"media-body\"]/h4/a[@class =\"lientexte\"]'), callback='parse_item', follow=True),)\n",
        "\n",
        "    # We define the parse_item function of the callback (included in the rule).\n",
        "    # In this function, we define all the xpaths of the elements we want to extract\n",
        "    def parse_item(self, response):\n",
        "        block_book = response.xpath('//div[@class= \"panel-body\"]')[0]\n",
        "        title = block_book.xpath('normalize-space(.//div[@class=\"media-body\"]/strong/text())').get()\n",
        "        author = response.xpath('normalize-space(//h3/a/text())').get()\n",
        "        rating = response.xpath('//div[@id= \"summary\"]/img/@alt').get()\n",
        "        review = response.xpath('normalize-space(//p[@class =\"critic\"]/text())').get()\n",
        "\n",
        "        # We instantiate an object from the AbirItem class (defined in the items.py file).\n",
        "        # See items.py file\n",
        "        # Note: we have to import this class here in the crawler file (see above in the import section).\n",
        "        french_reviews = AbirItem()\n",
        "\n",
        "        # we define each item\n",
        "        french_reviews['book_title'] = title\n",
        "        french_reviews['author'] = author\n",
        "        french_reviews['reader_review'] = review\n",
        "        french_reviews['rating'] = rating\n",
        "        \n",
        "        return french_reviews\n",
        "```\n",
        "\n",
        "**And I add the code of the class  used from items.py**\n",
        "\n",
        "```python\n",
        "\n",
        "# Define here the models for your scraped items\n",
        "# See documentation in:\n",
        "# https://docs.scrapy.org/en/latest/topics/items.html\n",
        "\n",
        "import scrapy\n",
        "\n",
        "class AbirItem(scrapy.Item):\n",
        "    book_title = scrapy.Field()\n",
        "    author = scrapy.Field()\n",
        "    reader_review = scrapy.Field()\n",
        "    rating = scrapy.Field()\n",
        "\n",
        "```"
      ],
      "metadata": {
        "id": "fkvtyLzxBr-7"
      }
    },
    {
      "cell_type": "markdown",
      "source": [
        "# **II- Post-Processing The first Dataset**\n",
        "### **II-1 Loading the 1st scraped dataset (Babelio Book reviews)**  "
      ],
      "metadata": {
        "id": "RJgbyb4BBr-9"
      }
    },
    {
      "cell_type": "markdown",
      "source": [
        "- The  dataset called **datababelio.json** is the raw dataset that I created with web scraping detailed in the previous first section \"Collecting Data with Scrapy | Basic Spider & Web Crawler\"\n",
        "\n",
        "- **For recall**: The original source of data is the [Babelio](https://www.babelio.com/) site.\n",
        "\n",
        "- **For recall**: Babelio is both a website and a mobile application dedicated to **French literature** and a **social network** intended to register personal libraries, which can then be shared and commented on by other users. The site operates on the principle of a social cataloging web application."
      ],
      "metadata": {
        "id": "YwPuIuoyBr-9"
      }
    },
    {
      "cell_type": "code",
      "source": [
        "import pandas as pd\n",
        "import numpy as np\n",
        "# For the path below, you can download the file on your local machine, from the folder Scrape_babelio_Site\n",
        "\n",
        "df = pd.read_json('../input/basic-scraperdataset-1/Scrape_Babelio_Site/Babelio_reviews/spiders/datababelio.json')\n",
        "\n",
        "df.head()"
      ],
      "metadata": {
        "execution": {
          "iopub.status.busy": "2021-12-21T13:19:29.854672Z",
          "iopub.execute_input": "2021-12-21T13:19:29.855217Z",
          "iopub.status.idle": "2021-12-21T13:19:30.170758Z",
          "shell.execute_reply.started": "2021-12-21T13:19:29.855105Z",
          "shell.execute_reply": "2021-12-21T13:19:30.169940Z"
        },
        "trusted": true,
        "id": "W-_ZuqMqBr-_",
        "outputId": "76f68dcf-7a4f-4685-b090-0cdad84cc8ea"
      },
      "execution_count": null,
      "outputs": [
        {
          "execution_count": 1,
          "output_type": "execute_result",
          "data": {
            "text/plain": "                           book_title                 author  \\\n0    Le Démon de la Colline aux Loups  Dimitri Rouchon-Borie   \n1                              Simple      Marie-Aude Murail   \n2  La plus secrète mémoire des hommes   Mohamed Mbougar Sarr   \n3                            Trancher      Amélie Cordonnier   \n4            Sur le bout de la langue          Olivier Sorin   \n\n                                              review  rating  \n0  Ce n'est pas le premier roman à aborder les th...     5.0  \n1  Simple, alias Barnabé, est un jeune homme de 2...     4.0  \n2  Pour écrire La plus secrète mémoire des hommes...     4.0  \n3  « La violence d'Aurélien est revenue. Par la f...     3.5  \n4  Jamais un livre ne m’a autant déstabilisée que...     NaN  ",
            "text/html": "<div>\n<style scoped>\n    .dataframe tbody tr th:only-of-type {\n        vertical-align: middle;\n    }\n\n    .dataframe tbody tr th {\n        vertical-align: top;\n    }\n\n    .dataframe thead th {\n        text-align: right;\n    }\n</style>\n<table border=\"1\" class=\"dataframe\">\n  <thead>\n    <tr style=\"text-align: right;\">\n      <th></th>\n      <th>book_title</th>\n      <th>author</th>\n      <th>review</th>\n      <th>rating</th>\n    </tr>\n  </thead>\n  <tbody>\n    <tr>\n      <th>0</th>\n      <td>Le Démon de la Colline aux Loups</td>\n      <td>Dimitri Rouchon-Borie</td>\n      <td>Ce n'est pas le premier roman à aborder les th...</td>\n      <td>5.0</td>\n    </tr>\n    <tr>\n      <th>1</th>\n      <td>Simple</td>\n      <td>Marie-Aude Murail</td>\n      <td>Simple, alias Barnabé, est un jeune homme de 2...</td>\n      <td>4.0</td>\n    </tr>\n    <tr>\n      <th>2</th>\n      <td>La plus secrète mémoire des hommes</td>\n      <td>Mohamed Mbougar Sarr</td>\n      <td>Pour écrire La plus secrète mémoire des hommes...</td>\n      <td>4.0</td>\n    </tr>\n    <tr>\n      <th>3</th>\n      <td>Trancher</td>\n      <td>Amélie Cordonnier</td>\n      <td>« La violence d'Aurélien est revenue. Par la f...</td>\n      <td>3.5</td>\n    </tr>\n    <tr>\n      <th>4</th>\n      <td>Sur le bout de la langue</td>\n      <td>Olivier Sorin</td>\n      <td>Jamais un livre ne m’a autant déstabilisée que...</td>\n      <td>NaN</td>\n    </tr>\n  </tbody>\n</table>\n</div>"
          },
          "metadata": {}
        }
      ]
    },
    {
      "cell_type": "code",
      "source": [
        "len(df)"
      ],
      "metadata": {
        "execution": {
          "iopub.status.busy": "2021-12-21T13:19:35.791430Z",
          "iopub.execute_input": "2021-12-21T13:19:35.791711Z",
          "iopub.status.idle": "2021-12-21T13:19:35.797551Z",
          "shell.execute_reply.started": "2021-12-21T13:19:35.791681Z",
          "shell.execute_reply": "2021-12-21T13:19:35.796805Z"
        },
        "trusted": true,
        "id": "a1oSgev8Br_A",
        "outputId": "49ed1010-e99a-4adf-b461-0e38f257ee13"
      },
      "execution_count": null,
      "outputs": [
        {
          "execution_count": 2,
          "output_type": "execute_result",
          "data": {
            "text/plain": "9915"
          },
          "metadata": {}
        }
      ]
    },
    {
      "cell_type": "markdown",
      "source": [
        "### **II-2 Dataset Cleaning & Processing**"
      ],
      "metadata": {
        "id": "xXdeOp6xBr_B"
      }
    },
    {
      "cell_type": "code",
      "source": [
        "# We Examine the null values\n",
        "df.isnull().sum()"
      ],
      "metadata": {
        "execution": {
          "iopub.status.busy": "2021-12-21T13:19:40.725823Z",
          "iopub.execute_input": "2021-12-21T13:19:40.726430Z",
          "iopub.status.idle": "2021-12-21T13:19:40.739287Z",
          "shell.execute_reply.started": "2021-12-21T13:19:40.726388Z",
          "shell.execute_reply": "2021-12-21T13:19:40.738389Z"
        },
        "trusted": true,
        "id": "zjMAA72EBr_C",
        "outputId": "6791bdf9-4391-4826-eb08-5692b9266330"
      },
      "execution_count": null,
      "outputs": [
        {
          "execution_count": 3,
          "output_type": "execute_result",
          "data": {
            "text/plain": "book_title      0\nauthor          0\nreview          0\nrating        909\ndtype: int64"
          },
          "metadata": {}
        }
      ]
    },
    {
      "cell_type": "code",
      "source": [
        "# We get the indexes of the rows with nan values.\n",
        "index_with_nan = df.index[df.isnull().any(axis=1)]\n",
        "print(index_with_nan)"
      ],
      "metadata": {
        "execution": {
          "iopub.status.busy": "2021-12-21T13:19:45.272527Z",
          "iopub.execute_input": "2021-12-21T13:19:45.272819Z",
          "iopub.status.idle": "2021-12-21T13:19:45.285525Z",
          "shell.execute_reply.started": "2021-12-21T13:19:45.272785Z",
          "shell.execute_reply": "2021-12-21T13:19:45.284585Z"
        },
        "trusted": true,
        "id": "HrphEFNjBr_D",
        "outputId": "e77bb588-a746-4efa-d6de-b7a08fed6775"
      },
      "execution_count": null,
      "outputs": [
        {
          "name": "stdout",
          "text": "Int64Index([   4,   89,  170,  194,  204,  229,  230,  255,  257,  269,\n            ...\n            9870, 9872, 9873, 9875, 9876, 9897, 9899, 9908, 9909, 9911],\n           dtype='int64', length=909)\n",
          "output_type": "stream"
        }
      ]
    },
    {
      "cell_type": "code",
      "source": [
        "# We delete rows with nan values\n",
        "df.drop(index_with_nan, axis=0, inplace=True)"
      ],
      "metadata": {
        "execution": {
          "iopub.status.busy": "2021-12-21T13:19:48.785181Z",
          "iopub.execute_input": "2021-12-21T13:19:48.785477Z",
          "iopub.status.idle": "2021-12-21T13:19:48.795334Z",
          "shell.execute_reply.started": "2021-12-21T13:19:48.785448Z",
          "shell.execute_reply": "2021-12-21T13:19:48.794642Z"
        },
        "trusted": true,
        "id": "jG12moucBr_E"
      },
      "execution_count": null,
      "outputs": []
    },
    {
      "cell_type": "code",
      "source": [
        "len(df)"
      ],
      "metadata": {
        "execution": {
          "iopub.status.busy": "2021-12-21T13:19:57.058966Z",
          "iopub.execute_input": "2021-12-21T13:19:57.059786Z",
          "iopub.status.idle": "2021-12-21T13:19:57.065228Z",
          "shell.execute_reply.started": "2021-12-21T13:19:57.059741Z",
          "shell.execute_reply": "2021-12-21T13:19:57.064389Z"
        },
        "trusted": true,
        "id": "IG_a82KkBr_F",
        "outputId": "44d40935-de2d-451f-f02e-a6c6ca4d91d1"
      },
      "execution_count": null,
      "outputs": [
        {
          "execution_count": 6,
          "output_type": "execute_result",
          "data": {
            "text/plain": "9006"
          },
          "metadata": {}
        }
      ]
    },
    {
      "cell_type": "code",
      "source": [
        "# We count the values in each rating category.\n",
        "df['rating'].value_counts()"
      ],
      "metadata": {
        "execution": {
          "iopub.status.busy": "2021-12-21T13:20:00.557051Z",
          "iopub.execute_input": "2021-12-21T13:20:00.557337Z",
          "iopub.status.idle": "2021-12-21T13:20:00.571334Z",
          "shell.execute_reply.started": "2021-12-21T13:20:00.557308Z",
          "shell.execute_reply": "2021-12-21T13:20:00.570393Z"
        },
        "trusted": true,
        "id": "Y_4SwPqQBr_F",
        "outputId": "4e87daed-9d6d-4912-8971-b7db92e6355b"
      },
      "execution_count": null,
      "outputs": [
        {
          "execution_count": 7,
          "output_type": "execute_result",
          "data": {
            "text/plain": "5.0    2652\n4.0    2366\n4.5    1136\n3.5    1064\n3.0     987\n2.5     315\n2.0     267\n1.0      91\n1.5      70\n0.5      55\n5.5       3\nName: rating, dtype: int64"
          },
          "metadata": {}
        }
      ]
    },
    {
      "cell_type": "code",
      "source": [
        "# We convert the string values of rating column into float ones.\n",
        "df['rating'] = df['rating'].map(lambda x: float(x))"
      ],
      "metadata": {
        "execution": {
          "iopub.status.busy": "2021-12-21T13:20:03.787360Z",
          "iopub.execute_input": "2021-12-21T13:20:03.788391Z",
          "iopub.status.idle": "2021-12-21T13:20:03.798383Z",
          "shell.execute_reply.started": "2021-12-21T13:20:03.788336Z",
          "shell.execute_reply": "2021-12-21T13:20:03.797212Z"
        },
        "trusted": true,
        "id": "Do9Ync0eBr_G"
      },
      "execution_count": null,
      "outputs": []
    },
    {
      "cell_type": "code",
      "source": [
        "# I just want to examine the 3 values that have 5.5! They look like weird values.\n",
        "df_top= df[df['rating']==5.5]\n",
        "df_top"
      ],
      "metadata": {
        "execution": {
          "iopub.status.busy": "2021-12-21T13:20:08.857899Z",
          "iopub.execute_input": "2021-12-21T13:20:08.858169Z",
          "iopub.status.idle": "2021-12-21T13:20:08.869636Z",
          "shell.execute_reply.started": "2021-12-21T13:20:08.858141Z",
          "shell.execute_reply": "2021-12-21T13:20:08.869018Z"
        },
        "trusted": true,
        "id": "mv8TNNcoBr_H",
        "outputId": "72139bdf-f66c-4aa9-f538-cffc94b735ec"
      },
      "execution_count": null,
      "outputs": [
        {
          "execution_count": 9,
          "output_type": "execute_result",
          "data": {
            "text/plain": "                book_title                  author  \\\n3500          Miss Charity       Murail Marie-Aude   \n5848  Maupassant, Le Horla  Sylvie Jacobee-Biriouk   \n6142      Comment on meurt              Émile Zola   \n\n                                                 review  rating  \n3500  Dévoré, je l'ai dévoré ! Passionnante enfant d...     5.5  \n5848  Le Horla, petit conte fantastique de Maupassan...     5.5  \n6142  Ce petit recueil de 5 nouvelles mettant en scè...     5.5  ",
            "text/html": "<div>\n<style scoped>\n    .dataframe tbody tr th:only-of-type {\n        vertical-align: middle;\n    }\n\n    .dataframe tbody tr th {\n        vertical-align: top;\n    }\n\n    .dataframe thead th {\n        text-align: right;\n    }\n</style>\n<table border=\"1\" class=\"dataframe\">\n  <thead>\n    <tr style=\"text-align: right;\">\n      <th></th>\n      <th>book_title</th>\n      <th>author</th>\n      <th>review</th>\n      <th>rating</th>\n    </tr>\n  </thead>\n  <tbody>\n    <tr>\n      <th>3500</th>\n      <td>Miss Charity</td>\n      <td>Murail Marie-Aude</td>\n      <td>Dévoré, je l'ai dévoré ! Passionnante enfant d...</td>\n      <td>5.5</td>\n    </tr>\n    <tr>\n      <th>5848</th>\n      <td>Maupassant, Le Horla</td>\n      <td>Sylvie Jacobee-Biriouk</td>\n      <td>Le Horla, petit conte fantastique de Maupassan...</td>\n      <td>5.5</td>\n    </tr>\n    <tr>\n      <th>6142</th>\n      <td>Comment on meurt</td>\n      <td>Émile Zola</td>\n      <td>Ce petit recueil de 5 nouvelles mettant en scè...</td>\n      <td>5.5</td>\n    </tr>\n  </tbody>\n</table>\n</div>"
          },
          "metadata": {}
        }
      ]
    },
    {
      "cell_type": "code",
      "source": [
        "# The first review that has a 5.5 rating \n",
        "# I confirm that the review is positive (it's a top review).\n",
        "df_top['review'].iloc[0]"
      ],
      "metadata": {
        "execution": {
          "iopub.status.busy": "2021-12-21T13:20:13.257925Z",
          "iopub.execute_input": "2021-12-21T13:20:13.258203Z",
          "iopub.status.idle": "2021-12-21T13:20:13.264163Z",
          "shell.execute_reply.started": "2021-12-21T13:20:13.258174Z",
          "shell.execute_reply": "2021-12-21T13:20:13.263276Z"
        },
        "trusted": true,
        "id": "hNR_XJxkBr_H",
        "outputId": "e360d7d5-e14c-4db9-ee9c-c92ed6e58aca"
      },
      "execution_count": null,
      "outputs": [
        {
          "execution_count": 10,
          "output_type": "execute_result",
          "data": {
            "text/plain": "\"Dévoré, je l'ai dévoré ! Passionnante enfant de l'Angleterre du 19eme siècle, Charity parvient on ne sait comment à s'élever intellectuellement avec brio, tout en contournant toutes les embûches et les tabous de la haute société britannique !\""
          },
          "metadata": {}
        }
      ]
    },
    {
      "cell_type": "code",
      "source": [
        "# The second review that has a 5.5 rating \n",
        "# I confirm that the review is positive\n",
        "df_top['review'].iloc[1]"
      ],
      "metadata": {
        "execution": {
          "iopub.status.busy": "2021-12-21T13:20:16.227435Z",
          "iopub.execute_input": "2021-12-21T13:20:16.228512Z",
          "iopub.status.idle": "2021-12-21T13:20:16.235012Z",
          "shell.execute_reply.started": "2021-12-21T13:20:16.228454Z",
          "shell.execute_reply": "2021-12-21T13:20:16.233667Z"
        },
        "trusted": true,
        "id": "d1iMC7YABr_H",
        "outputId": "0ac0cb9c-cef4-4b74-c5b6-aa41e474caa2"
      },
      "execution_count": null,
      "outputs": [
        {
          "execution_count": 11,
          "output_type": "execute_result",
          "data": {
            "text/plain": "\"Le Horla, petit conte fantastique de Maupassant, raconte de manière très immersive, à la première personne, le trajet de son narrateur en butte avec la présence troublante, incertaine, maléfique ? en un mot surnaturelle, d'une creature venue de l'au-delà invisible, de ce lieu même qui nourrit toutes les fantasmagories, jusqu'au drame, d'une conscience éveillée. Curieux petit journal intime. Étonnant.\""
          },
          "metadata": {}
        }
      ]
    },
    {
      "cell_type": "code",
      "source": [
        "# The third review that has a 5.5 rating \n",
        "# I confirm that the review is positive\n",
        "df_top['review'].iloc[2]"
      ],
      "metadata": {
        "execution": {
          "iopub.status.busy": "2021-12-21T13:20:19.068123Z",
          "iopub.execute_input": "2021-12-21T13:20:19.068598Z",
          "iopub.status.idle": "2021-12-21T13:20:19.075481Z",
          "shell.execute_reply.started": "2021-12-21T13:20:19.068547Z",
          "shell.execute_reply": "2021-12-21T13:20:19.074488Z"
        },
        "trusted": true,
        "id": "L9eSoVHCBr_I",
        "outputId": "a2da97ac-7da7-4075-f79e-4085eb48a954"
      },
      "execution_count": null,
      "outputs": [
        {
          "execution_count": 12,
          "output_type": "execute_result",
          "data": {
            "text/plain": "'Ce petit recueil de 5 nouvelles mettant en scène \"comment on meurt\", c\\'est-à-dire les différentes manières, selon que le personnage agonisant soit de tel ou tel milieu social, qu\\'on a de partir au pays d\\'où nul ne revient, est très plaisant à lire, quoique parfois bien sombre (4ème nouvelle surtout). Une particularité notable car plutôt peu fréquente chez les novellistes du 19ème : ces nouvelles (ou parties) sont toutes écrites au présent, ce qui les rend plus \"vives\", paradoxalement. ..'"
          },
          "metadata": {}
        }
      ]
    },
    {
      "cell_type": "code",
      "source": [
        "# We add the label Column \n",
        "# We will classify all the reviews with a rating <= 2.5 as negative (that includes 0.5, 1.0, 1.5, 2.0, 2.5 values).\n",
        "# And the reviews with rating of 3.0 and 3.5 as neutral\n",
        "# And the reviews with rating >= 4.0 as positive (that includes 4.0, 4.5 and 5 values).\n",
        "df.loc[:,'label'] = np.nan"
      ],
      "metadata": {
        "execution": {
          "iopub.status.busy": "2021-12-21T13:20:21.726916Z",
          "iopub.execute_input": "2021-12-21T13:20:21.727748Z",
          "iopub.status.idle": "2021-12-21T13:20:21.732392Z",
          "shell.execute_reply.started": "2021-12-21T13:20:21.727686Z",
          "shell.execute_reply": "2021-12-21T13:20:21.731787Z"
        },
        "trusted": true,
        "id": "9LqU2vWSBr_K"
      },
      "execution_count": null,
      "outputs": []
    },
    {
      "cell_type": "code",
      "source": [
        "# We update the new column \"label\", with the negative values\n",
        "df.loc[df['rating']<=2.5,'label'] = -1\n",
        "\n",
        "# We update the new column \"label\", with the positive values\n",
        "df.loc[df['rating']>= 4.0,'label'] = 1\n",
        "\n",
        "# We update the new column \"label\", with the neutral values\n",
        "df.loc[np.isnan(df['label']),'label'] = 0"
      ],
      "metadata": {
        "execution": {
          "iopub.status.busy": "2021-12-21T13:20:25.428521Z",
          "iopub.execute_input": "2021-12-21T13:20:25.429164Z",
          "iopub.status.idle": "2021-12-21T13:20:25.437978Z",
          "shell.execute_reply.started": "2021-12-21T13:20:25.429110Z",
          "shell.execute_reply": "2021-12-21T13:20:25.437018Z"
        },
        "trusted": true,
        "id": "sCASCaHMBr_K"
      },
      "execution_count": null,
      "outputs": []
    },
    {
      "cell_type": "code",
      "source": [
        "df['label']= pd.to_numeric(df['label'], downcast='integer')\n",
        "df.head()"
      ],
      "metadata": {
        "execution": {
          "iopub.status.busy": "2021-12-21T13:20:28.698262Z",
          "iopub.execute_input": "2021-12-21T13:20:28.698871Z",
          "iopub.status.idle": "2021-12-21T13:20:28.716811Z",
          "shell.execute_reply.started": "2021-12-21T13:20:28.698832Z",
          "shell.execute_reply": "2021-12-21T13:20:28.715812Z"
        },
        "trusted": true,
        "id": "MNKO9a1sBr_L",
        "outputId": "0c3c2ce7-6f6a-4ab7-b43a-1e2970645dc5"
      },
      "execution_count": null,
      "outputs": [
        {
          "execution_count": 15,
          "output_type": "execute_result",
          "data": {
            "text/plain": "                           book_title                 author  \\\n0    Le Démon de la Colline aux Loups  Dimitri Rouchon-Borie   \n1                              Simple      Marie-Aude Murail   \n2  La plus secrète mémoire des hommes   Mohamed Mbougar Sarr   \n3                            Trancher      Amélie Cordonnier   \n5            La guerre d'Alan, tome 2       Emmanuel Guibert   \n\n                                              review  rating  label  \n0  Ce n'est pas le premier roman à aborder les th...     5.0      1  \n1  Simple, alias Barnabé, est un jeune homme de 2...     4.0      1  \n2  Pour écrire La plus secrète mémoire des hommes...     4.0      1  \n3  « La violence d'Aurélien est revenue. Par la f...     3.5      0  \n5  Dans ce second album de La Guerre d’Alan, Emma...     5.0      1  ",
            "text/html": "<div>\n<style scoped>\n    .dataframe tbody tr th:only-of-type {\n        vertical-align: middle;\n    }\n\n    .dataframe tbody tr th {\n        vertical-align: top;\n    }\n\n    .dataframe thead th {\n        text-align: right;\n    }\n</style>\n<table border=\"1\" class=\"dataframe\">\n  <thead>\n    <tr style=\"text-align: right;\">\n      <th></th>\n      <th>book_title</th>\n      <th>author</th>\n      <th>review</th>\n      <th>rating</th>\n      <th>label</th>\n    </tr>\n  </thead>\n  <tbody>\n    <tr>\n      <th>0</th>\n      <td>Le Démon de la Colline aux Loups</td>\n      <td>Dimitri Rouchon-Borie</td>\n      <td>Ce n'est pas le premier roman à aborder les th...</td>\n      <td>5.0</td>\n      <td>1</td>\n    </tr>\n    <tr>\n      <th>1</th>\n      <td>Simple</td>\n      <td>Marie-Aude Murail</td>\n      <td>Simple, alias Barnabé, est un jeune homme de 2...</td>\n      <td>4.0</td>\n      <td>1</td>\n    </tr>\n    <tr>\n      <th>2</th>\n      <td>La plus secrète mémoire des hommes</td>\n      <td>Mohamed Mbougar Sarr</td>\n      <td>Pour écrire La plus secrète mémoire des hommes...</td>\n      <td>4.0</td>\n      <td>1</td>\n    </tr>\n    <tr>\n      <th>3</th>\n      <td>Trancher</td>\n      <td>Amélie Cordonnier</td>\n      <td>« La violence d'Aurélien est revenue. Par la f...</td>\n      <td>3.5</td>\n      <td>0</td>\n    </tr>\n    <tr>\n      <th>5</th>\n      <td>La guerre d'Alan, tome 2</td>\n      <td>Emmanuel Guibert</td>\n      <td>Dans ce second album de La Guerre d’Alan, Emma...</td>\n      <td>5.0</td>\n      <td>1</td>\n    </tr>\n  </tbody>\n</table>\n</div>"
          },
          "metadata": {}
        }
      ]
    },
    {
      "cell_type": "code",
      "source": [
        "df['label'].value_counts()"
      ],
      "metadata": {
        "execution": {
          "iopub.status.busy": "2021-12-21T13:20:33.197722Z",
          "iopub.execute_input": "2021-12-21T13:20:33.198053Z",
          "iopub.status.idle": "2021-12-21T13:20:33.206359Z",
          "shell.execute_reply.started": "2021-12-21T13:20:33.198018Z",
          "shell.execute_reply": "2021-12-21T13:20:33.205458Z"
        },
        "trusted": true,
        "id": "Nwi3QXOPBr_M",
        "outputId": "72cdee00-1f7b-408f-bc1e-fb532ea7aeb0"
      },
      "execution_count": null,
      "outputs": [
        {
          "execution_count": 16,
          "output_type": "execute_result",
          "data": {
            "text/plain": " 1    6157\n 0    2051\n-1     798\nName: label, dtype: int64"
          },
          "metadata": {}
        }
      ]
    },
    {
      "cell_type": "code",
      "source": [
        "# Producing the final processed dataset of Babelio reviews\n",
        "df.to_json('babelio_reviews.json', orient='records', force_ascii=False)"
      ],
      "metadata": {
        "execution": {
          "iopub.status.busy": "2021-12-21T13:20:36.866786Z",
          "iopub.execute_input": "2021-12-21T13:20:36.867046Z",
          "iopub.status.idle": "2021-12-21T13:20:36.950130Z",
          "shell.execute_reply.started": "2021-12-21T13:20:36.867019Z",
          "shell.execute_reply": "2021-12-21T13:20:36.949152Z"
        },
        "trusted": true,
        "id": "q8gbOUi2Br_M"
      },
      "execution_count": null,
      "outputs": []
    },
    {
      "cell_type": "markdown",
      "source": [
        "# **III- Post-Processing The second Dataset**\n",
        "### **III-1 Loading the 2nd scraped dataset (\"Critiques libres\" reviews)**\n"
      ],
      "metadata": {
        "id": "WUaIN39yBr_N"
      }
    },
    {
      "cell_type": "markdown",
      "source": [
        "- The  dataset called **data_critiques_libres.json** is the raw dataset that I created with web scraping detailed in the first dection \"Collecting Data with Scrapy | Basic Spider & Web Crawler\"\n",
        "\n",
        "- **For recall**: The original source of data is the [Critiques Libres](http://www.critiqueslibres.com/) site.\n",
        "\n",
        "- **For recall**: Like Wikipedia, this French web site is made possible by the contributions of volunteers who use the Internet to share their knowledge and reading experiences. "
      ],
      "metadata": {
        "id": "aDf9xjSLBr_O"
      }
    },
    {
      "cell_type": "code",
      "source": [
        "# For the path below, you can download the file on your local machine, from the folder Scrape_Site_Critiques_libres\n",
        "df_data = pd.read_json('../input/crawler-datase-2/Scrape_Site_Critiques_libres/critiques_libres_scraping/spiders/data_critiques_libres.json')\n",
        "\n",
        "df_data.head()"
      ],
      "metadata": {
        "execution": {
          "iopub.status.busy": "2021-12-21T13:20:41.803484Z",
          "iopub.execute_input": "2021-12-21T13:20:41.804007Z",
          "iopub.status.idle": "2021-12-21T13:20:41.851189Z",
          "shell.execute_reply.started": "2021-12-21T13:20:41.803953Z",
          "shell.execute_reply": "2021-12-21T13:20:41.850625Z"
        },
        "trusted": true,
        "id": "LklPmDUnBr_O",
        "outputId": "99977925-74a8-4a4b-e765-2415a39cd7c0"
      },
      "execution_count": null,
      "outputs": [
        {
          "execution_count": 18,
          "output_type": "execute_result",
          "data": {
            "text/plain": "                              book_title              author  \\\n0           Les vignes de Sainte-Colombe    Christian Signol   \n1                  Face à la mer immense    Lorraine Fouchet   \n2  La femme qui n'aimait plus les hommes  Isabelle Le Nouvel   \n3                         Les survivants         Jane Harper   \n4                 Le marchand de bonheur         Davide Cali   \n\n                                       reader_review      rating  \n0  Signol est un auteur qui a beaucoup de succès ...   5 étoiles  \n1         Fleur et Merlin habitent le même immeuble.   9 étoiles  \n2                                     « La femme qui  10 étoiles  \n3     Second ouvrage de Jane Harper lu pour ma part,   8 étoiles  \n4  Monsieur Pigeon est un marchand de bonheur. Il...   8 étoiles  ",
            "text/html": "<div>\n<style scoped>\n    .dataframe tbody tr th:only-of-type {\n        vertical-align: middle;\n    }\n\n    .dataframe tbody tr th {\n        vertical-align: top;\n    }\n\n    .dataframe thead th {\n        text-align: right;\n    }\n</style>\n<table border=\"1\" class=\"dataframe\">\n  <thead>\n    <tr style=\"text-align: right;\">\n      <th></th>\n      <th>book_title</th>\n      <th>author</th>\n      <th>reader_review</th>\n      <th>rating</th>\n    </tr>\n  </thead>\n  <tbody>\n    <tr>\n      <th>0</th>\n      <td>Les vignes de Sainte-Colombe</td>\n      <td>Christian Signol</td>\n      <td>Signol est un auteur qui a beaucoup de succès ...</td>\n      <td>5 étoiles</td>\n    </tr>\n    <tr>\n      <th>1</th>\n      <td>Face à la mer immense</td>\n      <td>Lorraine Fouchet</td>\n      <td>Fleur et Merlin habitent le même immeuble.</td>\n      <td>9 étoiles</td>\n    </tr>\n    <tr>\n      <th>2</th>\n      <td>La femme qui n'aimait plus les hommes</td>\n      <td>Isabelle Le Nouvel</td>\n      <td>« La femme qui</td>\n      <td>10 étoiles</td>\n    </tr>\n    <tr>\n      <th>3</th>\n      <td>Les survivants</td>\n      <td>Jane Harper</td>\n      <td>Second ouvrage de Jane Harper lu pour ma part,</td>\n      <td>8 étoiles</td>\n    </tr>\n    <tr>\n      <th>4</th>\n      <td>Le marchand de bonheur</td>\n      <td>Davide Cali</td>\n      <td>Monsieur Pigeon est un marchand de bonheur. Il...</td>\n      <td>8 étoiles</td>\n    </tr>\n  </tbody>\n</table>\n</div>"
          },
          "metadata": {}
        }
      ]
    },
    {
      "cell_type": "markdown",
      "source": [
        "### **III-2 Dataset Cleaning & Processing**"
      ],
      "metadata": {
        "id": "aoLZMMtrBr_P"
      }
    },
    {
      "cell_type": "code",
      "source": [
        "# We truncate the rating column (to the digit)\n",
        "df_data['rating'] = df_data['rating'].apply(lambda x: x[:-8])"
      ],
      "metadata": {
        "execution": {
          "iopub.status.busy": "2021-12-21T13:20:50.160770Z",
          "iopub.execute_input": "2021-12-21T13:20:50.161087Z",
          "iopub.status.idle": "2021-12-21T13:20:50.167181Z",
          "shell.execute_reply.started": "2021-12-21T13:20:50.161051Z",
          "shell.execute_reply": "2021-12-21T13:20:50.166229Z"
        },
        "trusted": true,
        "id": "Cfh6ah1QBr_P"
      },
      "execution_count": null,
      "outputs": []
    },
    {
      "cell_type": "code",
      "source": [
        "df_data['rating'].value_counts()"
      ],
      "metadata": {
        "execution": {
          "iopub.status.busy": "2021-12-21T13:20:52.978205Z",
          "iopub.execute_input": "2021-12-21T13:20:52.978788Z",
          "iopub.status.idle": "2021-12-21T13:20:52.986013Z",
          "shell.execute_reply.started": "2021-12-21T13:20:52.978748Z",
          "shell.execute_reply": "2021-12-21T13:20:52.985282Z"
        },
        "trusted": true,
        "id": "17vSYO8tBr_P",
        "outputId": "698fcb12-6719-414e-deee-574c9f814ddc"
      },
      "execution_count": null,
      "outputs": [
        {
          "execution_count": 20,
          "output_type": "execute_result",
          "data": {
            "text/plain": "10    254\n8     168\n9      91\n7      54\n5      38\n6      24\n4      14\n3       4\n1       3\n2       2\nName: rating, dtype: int64"
          },
          "metadata": {}
        }
      ]
    },
    {
      "cell_type": "code",
      "source": [
        "# We convert the rating column to integer type\n",
        "df_data['rating']= df_data['rating'].map(lambda x: int(x))\n",
        "\n",
        "# To match the first dataset, we convert the rating from over 10 to 5.\n",
        "df_data['rating'] = df_data['rating'].map(lambda x: float(x/2))\n",
        "\n",
        "df_data.head()"
      ],
      "metadata": {
        "execution": {
          "iopub.status.busy": "2021-12-21T13:20:55.898096Z",
          "iopub.execute_input": "2021-12-21T13:20:55.898414Z",
          "iopub.status.idle": "2021-12-21T13:20:55.915384Z",
          "shell.execute_reply.started": "2021-12-21T13:20:55.898374Z",
          "shell.execute_reply": "2021-12-21T13:20:55.914707Z"
        },
        "trusted": true,
        "id": "-VuwGdFOBr_Q",
        "outputId": "65c125ba-bdbc-4ac8-e791-2375dbe727c8"
      },
      "execution_count": null,
      "outputs": [
        {
          "execution_count": 21,
          "output_type": "execute_result",
          "data": {
            "text/plain": "                              book_title              author  \\\n0           Les vignes de Sainte-Colombe    Christian Signol   \n1                  Face à la mer immense    Lorraine Fouchet   \n2  La femme qui n'aimait plus les hommes  Isabelle Le Nouvel   \n3                         Les survivants         Jane Harper   \n4                 Le marchand de bonheur         Davide Cali   \n\n                                       reader_review  rating  \n0  Signol est un auteur qui a beaucoup de succès ...     2.5  \n1         Fleur et Merlin habitent le même immeuble.     4.5  \n2                                     « La femme qui     5.0  \n3     Second ouvrage de Jane Harper lu pour ma part,     4.0  \n4  Monsieur Pigeon est un marchand de bonheur. Il...     4.0  ",
            "text/html": "<div>\n<style scoped>\n    .dataframe tbody tr th:only-of-type {\n        vertical-align: middle;\n    }\n\n    .dataframe tbody tr th {\n        vertical-align: top;\n    }\n\n    .dataframe thead th {\n        text-align: right;\n    }\n</style>\n<table border=\"1\" class=\"dataframe\">\n  <thead>\n    <tr style=\"text-align: right;\">\n      <th></th>\n      <th>book_title</th>\n      <th>author</th>\n      <th>reader_review</th>\n      <th>rating</th>\n    </tr>\n  </thead>\n  <tbody>\n    <tr>\n      <th>0</th>\n      <td>Les vignes de Sainte-Colombe</td>\n      <td>Christian Signol</td>\n      <td>Signol est un auteur qui a beaucoup de succès ...</td>\n      <td>2.5</td>\n    </tr>\n    <tr>\n      <th>1</th>\n      <td>Face à la mer immense</td>\n      <td>Lorraine Fouchet</td>\n      <td>Fleur et Merlin habitent le même immeuble.</td>\n      <td>4.5</td>\n    </tr>\n    <tr>\n      <th>2</th>\n      <td>La femme qui n'aimait plus les hommes</td>\n      <td>Isabelle Le Nouvel</td>\n      <td>« La femme qui</td>\n      <td>5.0</td>\n    </tr>\n    <tr>\n      <th>3</th>\n      <td>Les survivants</td>\n      <td>Jane Harper</td>\n      <td>Second ouvrage de Jane Harper lu pour ma part,</td>\n      <td>4.0</td>\n    </tr>\n    <tr>\n      <th>4</th>\n      <td>Le marchand de bonheur</td>\n      <td>Davide Cali</td>\n      <td>Monsieur Pigeon est un marchand de bonheur. Il...</td>\n      <td>4.0</td>\n    </tr>\n  </tbody>\n</table>\n</div>"
          },
          "metadata": {}
        }
      ]
    },
    {
      "cell_type": "code",
      "source": [
        "# We add the label Column \n",
        "# We will classify all the reviews with a rating <= 2.5 as negative (that includes 0.5, 1.0, 1.5, 2.0, 2.5 values).\n",
        "# And the reviews with rating of 3.0 and 3.5 as neutral\n",
        "# And the reviews with rating >= 4.0 as positive (that includes 4.0, 4.5 and 5 values).\n",
        "df_data.loc[:,'label'] = np.nan"
      ],
      "metadata": {
        "execution": {
          "iopub.status.busy": "2021-12-21T13:20:58.606900Z",
          "iopub.execute_input": "2021-12-21T13:20:58.607351Z",
          "iopub.status.idle": "2021-12-21T13:20:58.613409Z",
          "shell.execute_reply.started": "2021-12-21T13:20:58.607311Z",
          "shell.execute_reply": "2021-12-21T13:20:58.612371Z"
        },
        "trusted": true,
        "id": "C3WxcArqBr_R"
      },
      "execution_count": null,
      "outputs": []
    },
    {
      "cell_type": "code",
      "source": [
        "# We update the new column \"label\", with the negative values\n",
        "df_data.loc[df_data['rating']<=2.5,'label'] = -1\n",
        "\n",
        "# We update the new column \"label\", with the positive values\n",
        "df_data.loc[df_data['rating']>= 4.0,'label'] = 1\n",
        "\n",
        "# We update the new column \"label\", with the neutral values\n",
        "df_data.loc[np.isnan(df_data['label']),'label'] = 0\n",
        "\n",
        "# We convert the data type of label column to integer (instead of float)\n",
        "df_data['label']= pd.to_numeric(df_data['label'], downcast='integer')\n",
        "\n",
        "df_data.head(3)"
      ],
      "metadata": {
        "execution": {
          "iopub.status.busy": "2021-12-21T13:21:01.647793Z",
          "iopub.execute_input": "2021-12-21T13:21:01.648849Z",
          "iopub.status.idle": "2021-12-21T13:21:01.668458Z",
          "shell.execute_reply.started": "2021-12-21T13:21:01.648793Z",
          "shell.execute_reply": "2021-12-21T13:21:01.667446Z"
        },
        "trusted": true,
        "id": "t8oZeGe7Br_S",
        "outputId": "f396c307-ab1d-4092-e3c8-9e27bf572a5f"
      },
      "execution_count": null,
      "outputs": [
        {
          "execution_count": 23,
          "output_type": "execute_result",
          "data": {
            "text/plain": "                              book_title              author  \\\n0           Les vignes de Sainte-Colombe    Christian Signol   \n1                  Face à la mer immense    Lorraine Fouchet   \n2  La femme qui n'aimait plus les hommes  Isabelle Le Nouvel   \n\n                                       reader_review  rating  label  \n0  Signol est un auteur qui a beaucoup de succès ...     2.5     -1  \n1         Fleur et Merlin habitent le même immeuble.     4.5      1  \n2                                     « La femme qui     5.0      1  ",
            "text/html": "<div>\n<style scoped>\n    .dataframe tbody tr th:only-of-type {\n        vertical-align: middle;\n    }\n\n    .dataframe tbody tr th {\n        vertical-align: top;\n    }\n\n    .dataframe thead th {\n        text-align: right;\n    }\n</style>\n<table border=\"1\" class=\"dataframe\">\n  <thead>\n    <tr style=\"text-align: right;\">\n      <th></th>\n      <th>book_title</th>\n      <th>author</th>\n      <th>reader_review</th>\n      <th>rating</th>\n      <th>label</th>\n    </tr>\n  </thead>\n  <tbody>\n    <tr>\n      <th>0</th>\n      <td>Les vignes de Sainte-Colombe</td>\n      <td>Christian Signol</td>\n      <td>Signol est un auteur qui a beaucoup de succès ...</td>\n      <td>2.5</td>\n      <td>-1</td>\n    </tr>\n    <tr>\n      <th>1</th>\n      <td>Face à la mer immense</td>\n      <td>Lorraine Fouchet</td>\n      <td>Fleur et Merlin habitent le même immeuble.</td>\n      <td>4.5</td>\n      <td>1</td>\n    </tr>\n    <tr>\n      <th>2</th>\n      <td>La femme qui n'aimait plus les hommes</td>\n      <td>Isabelle Le Nouvel</td>\n      <td>« La femme qui</td>\n      <td>5.0</td>\n      <td>1</td>\n    </tr>\n  </tbody>\n</table>\n</div>"
          },
          "metadata": {}
        }
      ]
    },
    {
      "cell_type": "code",
      "source": [
        "df_data['label'].value_counts()"
      ],
      "metadata": {
        "execution": {
          "iopub.status.busy": "2021-12-21T13:21:04.898192Z",
          "iopub.execute_input": "2021-12-21T13:21:04.898488Z",
          "iopub.status.idle": "2021-12-21T13:21:04.906548Z",
          "shell.execute_reply.started": "2021-12-21T13:21:04.898452Z",
          "shell.execute_reply": "2021-12-21T13:21:04.905463Z"
        },
        "trusted": true,
        "id": "9ftbI7EVBr_T",
        "outputId": "42117734-a62c-4c24-df43-fff5a6ba5ab1"
      },
      "execution_count": null,
      "outputs": [
        {
          "execution_count": 24,
          "output_type": "execute_result",
          "data": {
            "text/plain": " 1    513\n 0     78\n-1     61\nName: label, dtype: int64"
          },
          "metadata": {}
        }
      ]
    },
    {
      "cell_type": "code",
      "source": [
        "# We produce the final processed second dataset (having the same scheme as the first dataset).\n",
        "df_data.to_json('critiques_libres_reviews.json', orient='records', force_ascii=False)"
      ],
      "metadata": {
        "execution": {
          "iopub.status.busy": "2021-12-21T13:21:07.327917Z",
          "iopub.execute_input": "2021-12-21T13:21:07.328188Z",
          "iopub.status.idle": "2021-12-21T13:21:07.337443Z",
          "shell.execute_reply.started": "2021-12-21T13:21:07.328160Z",
          "shell.execute_reply": "2021-12-21T13:21:07.336808Z"
        },
        "trusted": true,
        "id": "uDK3ofW1Br_U"
      },
      "execution_count": null,
      "outputs": []
    },
    {
      "cell_type": "markdown",
      "source": [
        "# **IV- Aggregating the two Datasets**"
      ],
      "metadata": {
        "id": "h8q0XIGEBr_V"
      }
    },
    {
      "cell_type": "markdown",
      "source": [
        "**Since the two datasets have the same scheme, it is possible to aggregate them into one unified dataset. I called it french_book_reviews, and you can find it here (with a detailed description). [french_book_reviews](https://www.kaggle.com/abireltaief/books-reviews)**"
      ],
      "metadata": {
        "id": "HXN4zCkZBr_W"
      }
    }
  ]
}